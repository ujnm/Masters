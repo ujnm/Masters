{
 "cells": [
  {
   "cell_type": "markdown",
   "metadata": {},
   "source": [
    "## Imports"
   ]
  },
  {
   "cell_type": "code",
   "execution_count": 1,
   "metadata": {
    "ExecuteTime": {
     "end_time": "2020-05-30T11:41:48.212878Z",
     "start_time": "2020-05-30T11:41:43.897272Z"
    }
   },
   "outputs": [
    {
     "name": "stderr",
     "output_type": "stream",
     "text": [
      "C:\\Users\\JakubowskiL\\AppData\\Local\\Continuum\\anaconda3\\envs\\bert\\lib\\site-packages\\tensorflow\\python\\framework\\dtypes.py:526: FutureWarning: Passing (type, 1) or '1type' as a synonym of type is deprecated; in a future version of numpy, it will be understood as (type, (1,)) / '(1,)type'.\n",
      "  _np_qint8 = np.dtype([(\"qint8\", np.int8, 1)])\n",
      "C:\\Users\\JakubowskiL\\AppData\\Local\\Continuum\\anaconda3\\envs\\bert\\lib\\site-packages\\tensorflow\\python\\framework\\dtypes.py:527: FutureWarning: Passing (type, 1) or '1type' as a synonym of type is deprecated; in a future version of numpy, it will be understood as (type, (1,)) / '(1,)type'.\n",
      "  _np_quint8 = np.dtype([(\"quint8\", np.uint8, 1)])\n",
      "C:\\Users\\JakubowskiL\\AppData\\Local\\Continuum\\anaconda3\\envs\\bert\\lib\\site-packages\\tensorflow\\python\\framework\\dtypes.py:528: FutureWarning: Passing (type, 1) or '1type' as a synonym of type is deprecated; in a future version of numpy, it will be understood as (type, (1,)) / '(1,)type'.\n",
      "  _np_qint16 = np.dtype([(\"qint16\", np.int16, 1)])\n",
      "C:\\Users\\JakubowskiL\\AppData\\Local\\Continuum\\anaconda3\\envs\\bert\\lib\\site-packages\\tensorflow\\python\\framework\\dtypes.py:529: FutureWarning: Passing (type, 1) or '1type' as a synonym of type is deprecated; in a future version of numpy, it will be understood as (type, (1,)) / '(1,)type'.\n",
      "  _np_quint16 = np.dtype([(\"quint16\", np.uint16, 1)])\n",
      "C:\\Users\\JakubowskiL\\AppData\\Local\\Continuum\\anaconda3\\envs\\bert\\lib\\site-packages\\tensorflow\\python\\framework\\dtypes.py:530: FutureWarning: Passing (type, 1) or '1type' as a synonym of type is deprecated; in a future version of numpy, it will be understood as (type, (1,)) / '(1,)type'.\n",
      "  _np_qint32 = np.dtype([(\"qint32\", np.int32, 1)])\n",
      "C:\\Users\\JakubowskiL\\AppData\\Local\\Continuum\\anaconda3\\envs\\bert\\lib\\site-packages\\tensorflow\\python\\framework\\dtypes.py:535: FutureWarning: Passing (type, 1) or '1type' as a synonym of type is deprecated; in a future version of numpy, it will be understood as (type, (1,)) / '(1,)type'.\n",
      "  np_resource = np.dtype([(\"resource\", np.ubyte, 1)])\n",
      "Using TensorFlow backend.\n"
     ]
    }
   ],
   "source": [
    "import pandas as pd\n",
    "import numpy as np\n",
    "import re\n",
    "\n",
    "import gensim\n",
    "from gensim.utils import simple_preprocess\n",
    "from gensim.parsing.preprocessing import STOPWORDS\n",
    "from gensim.models import CoherenceModel\n",
    "from gensim.models.ldamodel import LdaModel\n",
    "from gensim.corpora.dictionary import Dictionary\n",
    "\n",
    "import numpy as np\n",
    "np.random.seed(2018)\n",
    "\n",
    "import nltk\n",
    "from nltk.corpus import stopwords\n",
    "from nltk.stem import WordNetLemmatizer \n",
    "from nltk.stem import WordNetLemmatizer, SnowballStemmer\n",
    "from nltk.stem.porter import *\n",
    "\n",
    "from transformers import BertTokenizer, BertModel, BertForMaskedLM, PreTrainedModel\n",
    "from keras.preprocessing.sequence import pad_sequences\n",
    "import torch\n",
    "\n",
    "import sklearn\n",
    "import sklearn.cluster\n",
    "import sklearn.decomposition\n",
    "import sklearn.ensemble\n",
    "import sklearn.manifold\n",
    "import sklearn.multiclass\n",
    "import sklearn.tree\n",
    "from sklearn.cluster import AgglomerativeClustering\n",
    "from sklearn.model_selection import cross_val_score\n",
    "from sklearn.ensemble import AdaBoostClassifier\n",
    "from sklearn.ensemble import RandomForestClassifier\n",
    "from sklearn.ensemble import GradientBoostingClassifier\n",
    "from sklearn import svm\n",
    "from sklearn.neural_network import MLPClassifier\n",
    "from sklearn.neural_network import MLPRegressor\n",
    "from sklearn.metrics import confusion_matrix\n",
    "from sklearn.model_selection import train_test_split"
   ]
  },
  {
   "cell_type": "markdown",
   "metadata": {},
   "source": [
    "## Data Input"
   ]
  },
  {
   "cell_type": "code",
   "execution_count": 2,
   "metadata": {
    "ExecuteTime": {
     "end_time": "2020-05-30T11:41:48.306488Z",
     "start_time": "2020-05-30T11:41:48.213704Z"
    }
   },
   "outputs": [
    {
     "data": {
      "text/html": [
       "<div>\n",
       "<style scoped>\n",
       "    .dataframe tbody tr th:only-of-type {\n",
       "        vertical-align: middle;\n",
       "    }\n",
       "\n",
       "    .dataframe tbody tr th {\n",
       "        vertical-align: top;\n",
       "    }\n",
       "\n",
       "    .dataframe thead th {\n",
       "        text-align: right;\n",
       "    }\n",
       "</style>\n",
       "<table border=\"1\" class=\"dataframe\">\n",
       "  <thead>\n",
       "    <tr style=\"text-align: right;\">\n",
       "      <th></th>\n",
       "      <th>Category</th>\n",
       "      <th>Text</th>\n",
       "    </tr>\n",
       "  </thead>\n",
       "  <tbody>\n",
       "    <tr>\n",
       "      <th>1678</th>\n",
       "      <td>sport</td>\n",
       "      <td>williams says he will never quit defiant matt ...</td>\n",
       "    </tr>\n",
       "    <tr>\n",
       "      <th>1034</th>\n",
       "      <td>entertainment</td>\n",
       "      <td>jackson film  absolute disaster  a pr expert h...</td>\n",
       "    </tr>\n",
       "    <tr>\n",
       "      <th>1853</th>\n",
       "      <td>entertainment</td>\n",
       "      <td>ocean s twelve raids box office ocean s twelve...</td>\n",
       "    </tr>\n",
       "    <tr>\n",
       "      <th>1078</th>\n",
       "      <td>politics</td>\n",
       "      <td>stalemate in pension strike talks talks aimed ...</td>\n",
       "    </tr>\n",
       "    <tr>\n",
       "      <th>466</th>\n",
       "      <td>sport</td>\n",
       "      <td>healey targets england comeback leicester wing...</td>\n",
       "    </tr>\n",
       "  </tbody>\n",
       "</table>\n",
       "</div>"
      ],
      "text/plain": [
       "           Category                                               Text\n",
       "1678          sport  williams says he will never quit defiant matt ...\n",
       "1034  entertainment  jackson film  absolute disaster  a pr expert h...\n",
       "1853  entertainment  ocean s twelve raids box office ocean s twelve...\n",
       "1078       politics  stalemate in pension strike talks talks aimed ...\n",
       "466           sport  healey targets england comeback leicester wing..."
      ]
     },
     "metadata": {},
     "output_type": "display_data"
    },
    {
     "data": {
      "text/plain": [
       "sport            511\n",
       "business         510\n",
       "politics         417\n",
       "tech             401\n",
       "entertainment    386\n",
       "Name: Category, dtype: int64"
      ]
     },
     "metadata": {},
     "output_type": "display_data"
    }
   ],
   "source": [
    "# reading iteratively input files\n",
    "input_df = pd.read_csv('bbc-text.csv')\n",
    "display(input_df.sample(5))\n",
    "display(input_df['Category'].value_counts())"
   ]
  },
  {
   "cell_type": "markdown",
   "metadata": {},
   "source": [
    "## Data Preprocessing"
   ]
  },
  {
   "cell_type": "markdown",
   "metadata": {},
   "source": [
    "Steps:\n",
    "1. Cutting docs to words\n",
    "2. Removing stop-words\n",
    "3. Lemmatization of words\n"
   ]
  },
  {
   "cell_type": "code",
   "execution_count": 3,
   "metadata": {
    "ExecuteTime": {
     "end_time": "2020-05-30T11:41:48.323409Z",
     "start_time": "2020-05-30T11:41:48.308452Z"
    }
   },
   "outputs": [
    {
     "name": "stdout",
     "output_type": "stream",
     "text": [
      "avg:  2262.936179775281\n",
      "min:  501\n",
      "max:  25483\n"
     ]
    }
   ],
   "source": [
    "print(\"avg: \",sum(input_df['Text'].str.len())/len(input_df))\n",
    "print(\"min: \",min(input_df['Text'].str.len()))\n",
    "print(\"max: \",max(input_df['Text'].str.len()))"
   ]
  },
  {
   "cell_type": "code",
   "execution_count": 4,
   "metadata": {
    "ExecuteTime": {
     "end_time": "2020-05-30T11:41:48.360327Z",
     "start_time": "2020-05-30T11:41:48.325406Z"
    }
   },
   "outputs": [
    {
     "name": "stdout",
     "output_type": "stream",
     "text": [
      "business: 1984.6176470588234\n",
      "entertainment: 1926.4559585492227\n",
      "sport: 1894.8825831702543\n",
      "politics: 2681.822541966427\n",
      "tech: 2974.216957605985\n"
     ]
    }
   ],
   "source": [
    "# average num of chars per topic\n",
    "print(\"business:\",sum(input_df[input_df['Category'] == 'business']['Text'].str.len())/len(input_df[input_df['Category'] == 'business']))\n",
    "print(\"entertainment:\",sum(input_df[input_df['Category'] == 'entertainment']['Text'].str.len())/len(input_df[input_df['Category'] == 'entertainment']))\n",
    "print(\"sport:\",sum(input_df[input_df['Category'] == 'sport']['Text'].str.len())/len(input_df[input_df['Category'] == 'sport']))\n",
    "print(\"politics:\",sum(input_df[input_df['Category'] == 'politics']['Text'].str.len())/len(input_df[input_df['Category'] == 'politics']))\n",
    "print(\"tech:\",sum(input_df[input_df['Category'] == 'tech']['Text'].str.len())/len(input_df[input_df['Category'] == 'tech']))"
   ]
  },
  {
   "cell_type": "code",
   "execution_count": 5,
   "metadata": {
    "ExecuteTime": {
     "end_time": "2020-05-30T11:41:48.451078Z",
     "start_time": "2020-05-30T11:41:48.363304Z"
    }
   },
   "outputs": [],
   "source": [
    "#factorising categories\n",
    "# input_df['Category ID'] = pd.factorize(input_df['Category'])[0]\n",
    "# print(pd.factorize(input_df['Category']))\n",
    "CatID = []\n",
    "for i in range(len(input_df)):\n",
    "    if input_df['Category'][i] == 'business':\n",
    "        CatID.append(0)\n",
    "    elif input_df['Category'][i] == 'tech':\n",
    "        CatID.append(1)\n",
    "    elif input_df['Category'][i] == 'politics':\n",
    "        CatID.append(2)\n",
    "    elif input_df['Category'][i] == 'sport':\n",
    "        CatID.append(3)\n",
    "    elif input_df['Category'][i] == 'entertainment':\n",
    "        CatID.append(4)\n",
    "input_df['Category ID'] = CatID"
   ]
  },
  {
   "cell_type": "code",
   "execution_count": 6,
   "metadata": {
    "ExecuteTime": {
     "end_time": "2020-05-30T11:41:48.713366Z",
     "start_time": "2020-05-30T11:41:48.452064Z"
    }
   },
   "outputs": [
    {
     "data": {
      "text/html": [
       "<div>\n",
       "<style scoped>\n",
       "    .dataframe tbody tr th:only-of-type {\n",
       "        vertical-align: middle;\n",
       "    }\n",
       "\n",
       "    .dataframe tbody tr th {\n",
       "        vertical-align: top;\n",
       "    }\n",
       "\n",
       "    .dataframe thead th {\n",
       "        text-align: right;\n",
       "    }\n",
       "</style>\n",
       "<table border=\"1\" class=\"dataframe\">\n",
       "  <thead>\n",
       "    <tr style=\"text-align: right;\">\n",
       "      <th></th>\n",
       "      <th>Category</th>\n",
       "      <th>Text</th>\n",
       "      <th>Category ID</th>\n",
       "      <th>Splitted Text</th>\n",
       "      <th>Stripped Text</th>\n",
       "    </tr>\n",
       "  </thead>\n",
       "  <tbody>\n",
       "    <tr>\n",
       "      <th>0</th>\n",
       "      <td>tech</td>\n",
       "      <td>tv future in the hands of viewers with home th...</td>\n",
       "      <td>1</td>\n",
       "      <td>[tv, future, in, the, hands, of, viewers, with...</td>\n",
       "      <td>[tv, future, in, the, hands, of, viewers, with...</td>\n",
       "    </tr>\n",
       "    <tr>\n",
       "      <th>1</th>\n",
       "      <td>business</td>\n",
       "      <td>worldcom boss  left books alone  former worldc...</td>\n",
       "      <td>0</td>\n",
       "      <td>[worldcom, boss, left, books, alone, former, w...</td>\n",
       "      <td>[worldcom, boss, left, books, alone, former, w...</td>\n",
       "    </tr>\n",
       "    <tr>\n",
       "      <th>2</th>\n",
       "      <td>sport</td>\n",
       "      <td>tigers wary of farrell  gamble  leicester say ...</td>\n",
       "      <td>3</td>\n",
       "      <td>[tigers, wary, of, farrell, gamble, leicester,...</td>\n",
       "      <td>[tigers, wary, of, farrell, gamble, leicester,...</td>\n",
       "    </tr>\n",
       "    <tr>\n",
       "      <th>3</th>\n",
       "      <td>sport</td>\n",
       "      <td>yeading face newcastle in fa cup premiership s...</td>\n",
       "      <td>3</td>\n",
       "      <td>[yeading, face, newcastle, in, fa, cup, premie...</td>\n",
       "      <td>[yeading, face, newcastle, in, fa, cup, premie...</td>\n",
       "    </tr>\n",
       "    <tr>\n",
       "      <th>4</th>\n",
       "      <td>entertainment</td>\n",
       "      <td>ocean s twelve raids box office ocean s twelve...</td>\n",
       "      <td>4</td>\n",
       "      <td>[ocean, s, twelve, raids, box, office, ocean, ...</td>\n",
       "      <td>[ocean, s, twelve, raids, box, office, ocean, ...</td>\n",
       "    </tr>\n",
       "  </tbody>\n",
       "</table>\n",
       "</div>"
      ],
      "text/plain": [
       "        Category                                               Text  \\\n",
       "0           tech  tv future in the hands of viewers with home th...   \n",
       "1       business  worldcom boss  left books alone  former worldc...   \n",
       "2          sport  tigers wary of farrell  gamble  leicester say ...   \n",
       "3          sport  yeading face newcastle in fa cup premiership s...   \n",
       "4  entertainment  ocean s twelve raids box office ocean s twelve...   \n",
       "\n",
       "   Category ID                                      Splitted Text  \\\n",
       "0            1  [tv, future, in, the, hands, of, viewers, with...   \n",
       "1            0  [worldcom, boss, left, books, alone, former, w...   \n",
       "2            3  [tigers, wary, of, farrell, gamble, leicester,...   \n",
       "3            3  [yeading, face, newcastle, in, fa, cup, premie...   \n",
       "4            4  [ocean, s, twelve, raids, box, office, ocean, ...   \n",
       "\n",
       "                                       Stripped Text  \n",
       "0  [tv, future, in, the, hands, of, viewers, with...  \n",
       "1  [worldcom, boss, left, books, alone, former, w...  \n",
       "2  [tigers, wary, of, farrell, gamble, leicester,...  \n",
       "3  [yeading, face, newcastle, in, fa, cup, premie...  \n",
       "4  [ocean, s, twelve, raids, box, office, ocean, ...  "
      ]
     },
     "execution_count": 6,
     "metadata": {},
     "output_type": "execute_result"
    }
   ],
   "source": [
    "# splitting and cleaning text\n",
    "splitted_texts = [doc.split() for doc in input_df['Text']]\n",
    "input_df['Splitted Text'] = splitted_texts\n",
    "stripped = []\n",
    "for i in range(len(input_df['Splitted Text'])):\n",
    "    strip = [word.strip(' .,)(\"\"-\\'') for word in input_df['Splitted Text'][i]]\n",
    "    stripped.append(strip)\n",
    "input_df['Stripped Text'] = stripped\n",
    "input_df.head(5)"
   ]
  },
  {
   "cell_type": "code",
   "execution_count": 7,
   "metadata": {
    "ExecuteTime": {
     "end_time": "2020-05-30T11:41:48.988637Z",
     "start_time": "2020-05-30T11:41:48.714363Z"
    }
   },
   "outputs": [],
   "source": [
    "# removing stop words\n",
    "filtered = []\n",
    "stop_words = set(stopwords.words('english'))\n",
    "for i in range(len(input_df['Stripped Text'])):\n",
    "    filtered_sentence = [w for w in input_df['Stripped Text'][i] if not w in stop_words]\n",
    "    filtered.append(filtered_sentence)\n",
    "input_df['Filtered Text'] = filtered"
   ]
  },
  {
   "cell_type": "markdown",
   "metadata": {},
   "source": [
    "## Lemmatization"
   ]
  },
  {
   "cell_type": "code",
   "execution_count": 8,
   "metadata": {
    "ExecuteTime": {
     "end_time": "2020-05-30T11:41:52.509369Z",
     "start_time": "2020-05-30T11:41:48.990622Z"
    }
   },
   "outputs": [],
   "source": [
    "lemmatizer = WordNetLemmatizer() \n",
    "#docs = [[lemmatizer.lemmatize(token) for token in doc] for doc in docs]\n",
    "lemmatized = []\n",
    "for i in range(len(input_df['Filtered Text'])):\n",
    "    lemat = [lemmatizer.lemmatize(w) for w in input_df['Filtered Text'][i] ]\n",
    "    lemmatized.append(lemat)\n",
    "input_df['Lemmatized Text'] = lemmatized\n",
    "  "
   ]
  },
  {
   "cell_type": "markdown",
   "metadata": {},
   "source": [
    "# Vector representations"
   ]
  },
  {
   "cell_type": "markdown",
   "metadata": {
    "ExecuteTime": {
     "end_time": "2020-04-21T18:39:44.888323Z",
     "start_time": "2020-04-21T18:39:44.881344Z"
    }
   },
   "source": [
    "Methods to compare:\n",
    "- Bert\n",
    "- Fasttext\n",
    "- Word2Vec\n",
    "- LDA"
   ]
  },
  {
   "cell_type": "markdown",
   "metadata": {},
   "source": [
    "## 1. LDA"
   ]
  },
  {
   "cell_type": "code",
   "execution_count": 9,
   "metadata": {
    "ExecuteTime": {
     "end_time": "2020-05-29T13:50:01.500198Z",
     "start_time": "2020-05-29T13:50:00.890843Z"
    }
   },
   "outputs": [],
   "source": [
    "dictionary = Dictionary(input_df['Lemmatized Text'])\n",
    "# Filter out words that occur less than 20 documents, or more than 50% of the documents.\n",
    "dictionary.filter_extremes(no_below=20, no_above=0.5)\n",
    "\n",
    "test_data = [dictionary.doc2bow(text) for text in input_df['Lemmatized Text'][1191:]]"
   ]
  },
  {
   "cell_type": "code",
   "execution_count": 10,
   "metadata": {
    "ExecuteTime": {
     "end_time": "2020-05-29T13:50:01.506936Z",
     "start_time": "2020-05-29T13:50:01.501983Z"
    }
   },
   "outputs": [
    {
     "data": {
      "text/plain": [
       "2225"
      ]
     },
     "execution_count": 10,
     "metadata": {},
     "output_type": "execute_result"
    }
   ],
   "source": [
    "len(input_df)"
   ]
  },
  {
   "cell_type": "code",
   "execution_count": 11,
   "metadata": {
    "ExecuteTime": {
     "end_time": "2020-05-29T13:50:01.556546Z",
     "start_time": "2020-05-29T13:50:01.508932Z"
    }
   },
   "outputs": [],
   "source": [
    "#getting representative train/test split\n",
    "\n",
    "test = input_df[input_df['Category ID']==0][:50][['Category ID','Lemmatized Text']].copy()\n",
    "test = test.append(input_df[input_df['Category ID']==1][:50][[ 'Category ID','Lemmatized Text']].copy())\n",
    "test = test.append(input_df[input_df['Category ID']==2][:50][[ 'Category ID','Lemmatized Text']].copy())\n",
    "test = test.append(input_df[input_df['Category ID']==3][:50][[ 'Category ID','Lemmatized Text']].copy())\n",
    "test = test.append(input_df[input_df['Category ID']==4][:50][[ 'Category ID','Lemmatized Text']].copy())\n",
    "test = test.reset_index(drop=True)\n",
    "\n",
    "train = input_df[input_df['Category ID']==0][51:][[ 'Category ID','Lemmatized Text']].copy()\n",
    "train = train.append(input_df[input_df['Category ID']==1][51:][[ 'Category ID','Lemmatized Text']].copy())\n",
    "train = train.append(input_df[input_df['Category ID']==2][51:][[ 'Category ID','Lemmatized Text']].copy())\n",
    "train = train.append(input_df[input_df['Category ID']==3][51:][[ 'Category ID','Lemmatized Text']].copy())\n",
    "train = train.append(input_df[input_df['Category ID']==4][51:][[ 'Category ID','Lemmatized Text']].copy())\n",
    "train = train.reset_index(drop=True)"
   ]
  },
  {
   "cell_type": "code",
   "execution_count": 12,
   "metadata": {
    "ExecuteTime": {
     "end_time": "2020-05-29T13:50:01.562383Z",
     "start_time": "2020-05-29T13:50:01.559398Z"
    }
   },
   "outputs": [],
   "source": [
    "\n",
    "\n",
    "\n",
    "\n",
    "\n",
    "# corpus = [dictionary.doc2bow(text) for text in train['Lemmatized Text']]\n",
    "# # Make a index to word dictionary.\n",
    "# temp = dictionary[0]  # This is only to \"load\" the dictionary.\n",
    "# id2word = dictionary.id2token\n",
    "\n",
    "# # Set training parameters.\n",
    "# num_topics = 5\n",
    "# chunksize = 2000\n",
    "\n",
    "# eval_every = None  # Don't evaluate model perplexity, takes too much time.\n",
    "\n"
   ]
  },
  {
   "cell_type": "code",
   "execution_count": 13,
   "metadata": {
    "ExecuteTime": {
     "end_time": "2020-05-29T13:50:01.574362Z",
     "start_time": "2020-05-29T13:50:01.564376Z"
    }
   },
   "outputs": [],
   "source": [
    "# import logging\n",
    "# logging.basicConfig( level=logging.INFO)\n",
    "# Scores = []\n",
    "# passes = 20\n",
    "# iterations = 300\n",
    "# for i in range(1):\n",
    "    \n",
    "#     model = LdaModel(\n",
    "#         corpus=corpus,\n",
    "#         id2word=id2word,\n",
    "#         chunksize=chunksize,\n",
    "#         alpha='auto',\n",
    "#         eta='auto',\n",
    "#         iterations=iterations,\n",
    "#         num_topics=num_topics,\n",
    "#         passes=passes,\n",
    "#         eval_every=1\n",
    "#     )\n",
    "\n",
    "#     # Compute Coherence Score\n",
    "#     coherence_model_lda = CoherenceModel(model=model, texts=input_df['Lemmatized Text'], dictionary=dictionary, coherence='u_mass')\n",
    "#     coherence_lda = coherence_model_lda.get_coherence()\n",
    "#     print('\\nCoherence Score: ', coherence_lda)\n"
   ]
  },
  {
   "cell_type": "markdown",
   "metadata": {},
   "source": [
    "0 -biz\n",
    "\n",
    "1- tech\n",
    "\n",
    "2- polit\n",
    "\n",
    "3 - sport\n",
    "\n",
    "4 - enterta"
   ]
  },
  {
   "cell_type": "code",
   "execution_count": 14,
   "metadata": {
    "ExecuteTime": {
     "end_time": "2020-05-29T13:50:01.590306Z",
     "start_time": "2020-05-29T13:50:01.578371Z"
    }
   },
   "outputs": [],
   "source": [
    "#model.print_topics()"
   ]
  },
  {
   "cell_type": "code",
   "execution_count": 15,
   "metadata": {
    "ExecuteTime": {
     "end_time": "2020-05-29T13:50:01.618231Z",
     "start_time": "2020-05-29T13:50:01.593298Z"
    }
   },
   "outputs": [
    {
     "name": "stderr",
     "output_type": "stream",
     "text": [
      "C:\\Users\\JakubowskiL\\AppData\\Local\\Continuum\\anaconda3\\envs\\bert\\lib\\site-packages\\smart_open\\smart_open_lib.py:253: UserWarning: This function is deprecated, use smart_open.open instead. See the migration notes for details: https://github.com/RaRe-Technologies/smart_open/blob/master/README.rst#migrating-to-the-new-open-function\n",
      "  'See the migration notes for details: %s' % _MIGRATION_NOTES_URL\n",
      "C:\\Users\\JakubowskiL\\AppData\\Local\\Continuum\\anaconda3\\envs\\bert\\lib\\site-packages\\smart_open\\smart_open_lib.py:253: UserWarning: This function is deprecated, use smart_open.open instead. See the migration notes for details: https://github.com/RaRe-Technologies/smart_open/blob/master/README.rst#migrating-to-the-new-open-function\n",
      "  'See the migration notes for details: %s' % _MIGRATION_NOTES_URL\n"
     ]
    }
   ],
   "source": [
    "modelLDA = LdaModel.load(\"LdaModel.model\")"
   ]
  },
  {
   "cell_type": "code",
   "execution_count": 16,
   "metadata": {
    "ExecuteTime": {
     "end_time": "2020-05-29T13:50:01.847588Z",
     "start_time": "2020-05-29T13:50:01.619229Z"
    }
   },
   "outputs": [
    {
     "name": "stdout",
     "output_type": "stream",
     "text": [
      "Accuracy:  95.19999999999999  %\n"
     ]
    }
   ],
   "source": [
    "# Testing accuracy\n",
    "test_corpus = [dictionary.doc2bow(text) for text in test['Lemmatized Text']]\n",
    "top_topic = []\n",
    "for i in range(len(test)):\n",
    "    lda = modelLDA.get_document_topics(test_corpus[i])\n",
    "    topic_probab = [lis[1] for lis in lda]\n",
    "    top_topic.append(lda[topic_probab.index(max(topic_probab))][0])\n",
    "test['LDA Topic'] = top_topic\n",
    "LDA_toCat = []\n",
    "for i in range(len(test)):\n",
    "    if test['LDA Topic'][i] == 0:\n",
    "        LDA_toCat.append(0)\n",
    "    elif test['LDA Topic'][i] == 1:\n",
    "        LDA_toCat.append(1)\n",
    "    elif test['LDA Topic'][i] == 2:\n",
    "        LDA_toCat.append(2)\n",
    "    elif test['LDA Topic'][i] == 3:\n",
    "        LDA_toCat.append(4)\n",
    "    elif test['LDA Topic'][i] == 4:\n",
    "        LDA_toCat.append(3)\n",
    "test['LDA to Cat ID'] = LDA_toCat\n",
    "acc = (len(test[test['Category ID'] ==test['LDA to Cat ID']])/len(test))*100\n",
    "print(\"Accuracy: \",acc,\" %\")"
   ]
  },
  {
   "cell_type": "code",
   "execution_count": 17,
   "metadata": {
    "ExecuteTime": {
     "end_time": "2020-05-29T13:50:01.909455Z",
     "start_time": "2020-05-29T13:50:01.849584Z"
    }
   },
   "outputs": [
    {
     "data": {
      "text/html": [
       "<div>\n",
       "<style scoped>\n",
       "    .dataframe tbody tr th:only-of-type {\n",
       "        vertical-align: middle;\n",
       "    }\n",
       "\n",
       "    .dataframe tbody tr th {\n",
       "        vertical-align: top;\n",
       "    }\n",
       "\n",
       "    .dataframe thead th {\n",
       "        text-align: right;\n",
       "    }\n",
       "</style>\n",
       "<table border=\"1\" class=\"dataframe\">\n",
       "  <thead>\n",
       "    <tr style=\"text-align: right;\">\n",
       "      <th></th>\n",
       "      <th>Category ID</th>\n",
       "      <th>Lemmatized Text</th>\n",
       "      <th>LDA Topic</th>\n",
       "      <th>LDA to Cat ID</th>\n",
       "    </tr>\n",
       "  </thead>\n",
       "  <tbody>\n",
       "    <tr>\n",
       "      <th>0</th>\n",
       "      <td>0</td>\n",
       "      <td>[worldcom, bos, left, book, alone, former, wor...</td>\n",
       "      <td>2</td>\n",
       "      <td>2</td>\n",
       "    </tr>\n",
       "    <tr>\n",
       "      <th>1</th>\n",
       "      <td>0</td>\n",
       "      <td>[virgin, blue, share, plummet, 20%, share, aus...</td>\n",
       "      <td>0</td>\n",
       "      <td>0</td>\n",
       "    </tr>\n",
       "    <tr>\n",
       "      <th>2</th>\n",
       "      <td>0</td>\n",
       "      <td>[crude, oil, price, back, $50, cold, weather, ...</td>\n",
       "      <td>0</td>\n",
       "      <td>0</td>\n",
       "    </tr>\n",
       "    <tr>\n",
       "      <th>3</th>\n",
       "      <td>0</td>\n",
       "      <td>[korean, credit, card, firm, rescued, south, k...</td>\n",
       "      <td>0</td>\n",
       "      <td>0</td>\n",
       "    </tr>\n",
       "    <tr>\n",
       "      <th>4</th>\n",
       "      <td>0</td>\n",
       "      <td>[japanese, banking, battle, end, japan, sumito...</td>\n",
       "      <td>0</td>\n",
       "      <td>0</td>\n",
       "    </tr>\n",
       "    <tr>\n",
       "      <th>5</th>\n",
       "      <td>0</td>\n",
       "      <td>[insurance, boss, plead, guilty, another, thre...</td>\n",
       "      <td>0</td>\n",
       "      <td>0</td>\n",
       "    </tr>\n",
       "    <tr>\n",
       "      <th>6</th>\n",
       "      <td>0</td>\n",
       "      <td>[german, growth, go, reverse, germany, economy...</td>\n",
       "      <td>0</td>\n",
       "      <td>0</td>\n",
       "    </tr>\n",
       "    <tr>\n",
       "      <th>7</th>\n",
       "      <td>0</td>\n",
       "      <td>[house, price, show, slight, increase, price, ...</td>\n",
       "      <td>0</td>\n",
       "      <td>0</td>\n",
       "    </tr>\n",
       "    <tr>\n",
       "      <th>8</th>\n",
       "      <td>0</td>\n",
       "      <td>[stock, market, eye, japan, recovery, japanese...</td>\n",
       "      <td>0</td>\n",
       "      <td>0</td>\n",
       "    </tr>\n",
       "    <tr>\n",
       "      <th>9</th>\n",
       "      <td>0</td>\n",
       "      <td>[standard, life, cut, policy, bonus, standard,...</td>\n",
       "      <td>0</td>\n",
       "      <td>0</td>\n",
       "    </tr>\n",
       "    <tr>\n",
       "      <th>10</th>\n",
       "      <td>0</td>\n",
       "      <td>[pernod, takeover, talk, lift, domecq, share, ...</td>\n",
       "      <td>0</td>\n",
       "      <td>0</td>\n",
       "    </tr>\n",
       "    <tr>\n",
       "      <th>11</th>\n",
       "      <td>0</td>\n",
       "      <td>[ukraine, trim, privatisation, check, ukraine,...</td>\n",
       "      <td>0</td>\n",
       "      <td>0</td>\n",
       "    </tr>\n",
       "    <tr>\n",
       "      <th>12</th>\n",
       "      <td>0</td>\n",
       "      <td>[u, regulator, rule, pain, drug, u, food, drug...</td>\n",
       "      <td>0</td>\n",
       "      <td>0</td>\n",
       "    </tr>\n",
       "    <tr>\n",
       "      <th>13</th>\n",
       "      <td>0</td>\n",
       "      <td>[telegraph, newspaper, axe, 90, job, daily, su...</td>\n",
       "      <td>0</td>\n",
       "      <td>0</td>\n",
       "    </tr>\n",
       "    <tr>\n",
       "      <th>14</th>\n",
       "      <td>0</td>\n",
       "      <td>[court, reject, $280bn, tobacco, case, u, gove...</td>\n",
       "      <td>0</td>\n",
       "      <td>0</td>\n",
       "    </tr>\n",
       "    <tr>\n",
       "      <th>15</th>\n",
       "      <td>0</td>\n",
       "      <td>[india, power, share, jump, debut, share, indi...</td>\n",
       "      <td>0</td>\n",
       "      <td>0</td>\n",
       "    </tr>\n",
       "    <tr>\n",
       "      <th>16</th>\n",
       "      <td>0</td>\n",
       "      <td>[deadline, nears, fiat-gm, deal, fiat, general...</td>\n",
       "      <td>0</td>\n",
       "      <td>0</td>\n",
       "    </tr>\n",
       "    <tr>\n",
       "      <th>17</th>\n",
       "      <td>0</td>\n",
       "      <td>[indonesia, decline, debt, freeze, indonesia, ...</td>\n",
       "      <td>0</td>\n",
       "      <td>0</td>\n",
       "    </tr>\n",
       "    <tr>\n",
       "      <th>18</th>\n",
       "      <td>0</td>\n",
       "      <td>[singapore, growth, 8.1%, 2004, singapore, eco...</td>\n",
       "      <td>0</td>\n",
       "      <td>0</td>\n",
       "    </tr>\n",
       "    <tr>\n",
       "      <th>19</th>\n",
       "      <td>0</td>\n",
       "      <td>[call, save, manufacturing, job, trade, union,...</td>\n",
       "      <td>0</td>\n",
       "      <td>0</td>\n",
       "    </tr>\n",
       "    <tr>\n",
       "      <th>20</th>\n",
       "      <td>0</td>\n",
       "      <td>[yukos, sue, four, firm, $20bn, russian, oil, ...</td>\n",
       "      <td>0</td>\n",
       "      <td>0</td>\n",
       "    </tr>\n",
       "    <tr>\n",
       "      <th>21</th>\n",
       "      <td>0</td>\n",
       "      <td>[khodorkovsky, ally, denies, charge, close, as...</td>\n",
       "      <td>2</td>\n",
       "      <td>2</td>\n",
       "    </tr>\n",
       "    <tr>\n",
       "      <th>22</th>\n",
       "      <td>0</td>\n",
       "      <td>[u, company, admits, benin, bribery, u, defenc...</td>\n",
       "      <td>0</td>\n",
       "      <td>0</td>\n",
       "    </tr>\n",
       "    <tr>\n",
       "      <th>23</th>\n",
       "      <td>0</td>\n",
       "      <td>[news, corp, make, $5.4bn, fox, offer, news, c...</td>\n",
       "      <td>0</td>\n",
       "      <td>0</td>\n",
       "    </tr>\n",
       "    <tr>\n",
       "      <th>24</th>\n",
       "      <td>0</td>\n",
       "      <td>[chinese, dam, firm, defies, beijing, china, t...</td>\n",
       "      <td>0</td>\n",
       "      <td>0</td>\n",
       "    </tr>\n",
       "    <tr>\n",
       "      <th>25</th>\n",
       "      <td>0</td>\n",
       "      <td>[bank, set, leave, rate, hold, uk, interest, r...</td>\n",
       "      <td>0</td>\n",
       "      <td>0</td>\n",
       "    </tr>\n",
       "    <tr>\n",
       "      <th>26</th>\n",
       "      <td>0</td>\n",
       "      <td>[oil, rebound, weather, effect, oil, price, re...</td>\n",
       "      <td>0</td>\n",
       "      <td>0</td>\n",
       "    </tr>\n",
       "    <tr>\n",
       "      <th>27</th>\n",
       "      <td>0</td>\n",
       "      <td>[japan, narrowly, escape, recession, japan, ec...</td>\n",
       "      <td>0</td>\n",
       "      <td>0</td>\n",
       "    </tr>\n",
       "    <tr>\n",
       "      <th>28</th>\n",
       "      <td>0</td>\n",
       "      <td>[target, better, many, economic, target, set, ...</td>\n",
       "      <td>0</td>\n",
       "      <td>0</td>\n",
       "    </tr>\n",
       "    <tr>\n",
       "      <th>29</th>\n",
       "      <td>0</td>\n",
       "      <td>[u, trade, gap, hit, record, 2004, gap, u, exp...</td>\n",
       "      <td>0</td>\n",
       "      <td>0</td>\n",
       "    </tr>\n",
       "    <tr>\n",
       "      <th>...</th>\n",
       "      <td>...</td>\n",
       "      <td>...</td>\n",
       "      <td>...</td>\n",
       "      <td>...</td>\n",
       "    </tr>\n",
       "    <tr>\n",
       "      <th>220</th>\n",
       "      <td>4</td>\n",
       "      <td>[film, production, fall, 40%, uk, number, brit...</td>\n",
       "      <td>0</td>\n",
       "      <td>0</td>\n",
       "    </tr>\n",
       "    <tr>\n",
       "      <th>221</th>\n",
       "      <td>4</td>\n",
       "      <td>[hillbilly, singer, scoggins, dy, country, wes...</td>\n",
       "      <td>3</td>\n",
       "      <td>4</td>\n",
       "    </tr>\n",
       "    <tr>\n",
       "      <th>222</th>\n",
       "      <td>4</td>\n",
       "      <td>[bennett, play, take, theatre, prize, history,...</td>\n",
       "      <td>3</td>\n",
       "      <td>4</td>\n",
       "    </tr>\n",
       "    <tr>\n",
       "      <th>223</th>\n",
       "      <td>4</td>\n",
       "      <td>[comic, book, genius, stan, lee, stan, lee, ma...</td>\n",
       "      <td>3</td>\n",
       "      <td>4</td>\n",
       "    </tr>\n",
       "    <tr>\n",
       "      <th>224</th>\n",
       "      <td>4</td>\n",
       "      <td>[goodrem, win, top, female, mtv, prize, pop, s...</td>\n",
       "      <td>3</td>\n",
       "      <td>4</td>\n",
       "    </tr>\n",
       "    <tr>\n",
       "      <th>225</th>\n",
       "      <td>4</td>\n",
       "      <td>[musical, treatment, capra, film, classic, fil...</td>\n",
       "      <td>3</td>\n",
       "      <td>4</td>\n",
       "    </tr>\n",
       "    <tr>\n",
       "      <th>226</th>\n",
       "      <td>4</td>\n",
       "      <td>[springer, criticises, opera, musical, talk, s...</td>\n",
       "      <td>3</td>\n",
       "      <td>4</td>\n",
       "    </tr>\n",
       "    <tr>\n",
       "      <th>227</th>\n",
       "      <td>4</td>\n",
       "      <td>[star, gear, bafta, ceremony, film, star, acro...</td>\n",
       "      <td>3</td>\n",
       "      <td>4</td>\n",
       "    </tr>\n",
       "    <tr>\n",
       "      <th>228</th>\n",
       "      <td>4</td>\n",
       "      <td>[carry, star, patsy, rowlands, dy, actress, pa...</td>\n",
       "      <td>3</td>\n",
       "      <td>4</td>\n",
       "    </tr>\n",
       "    <tr>\n",
       "      <th>229</th>\n",
       "      <td>4</td>\n",
       "      <td>[grammys, honour, soul, star, charles, memory,...</td>\n",
       "      <td>3</td>\n",
       "      <td>4</td>\n",
       "    </tr>\n",
       "    <tr>\n",
       "      <th>230</th>\n",
       "      <td>4</td>\n",
       "      <td>[versace, art, portfolio, sale, art, collectio...</td>\n",
       "      <td>3</td>\n",
       "      <td>4</td>\n",
       "    </tr>\n",
       "    <tr>\n",
       "      <th>231</th>\n",
       "      <td>4</td>\n",
       "      <td>[day-lewis, set, berlin, honour, actor, daniel...</td>\n",
       "      <td>3</td>\n",
       "      <td>4</td>\n",
       "    </tr>\n",
       "    <tr>\n",
       "      <th>232</th>\n",
       "      <td>4</td>\n",
       "      <td>[public, show, reynolds, portrait, sir, joshua...</td>\n",
       "      <td>3</td>\n",
       "      <td>4</td>\n",
       "    </tr>\n",
       "    <tr>\n",
       "      <th>233</th>\n",
       "      <td>4</td>\n",
       "      <td>[lost, door, frontman, movie, found, historian...</td>\n",
       "      <td>3</td>\n",
       "      <td>4</td>\n",
       "    </tr>\n",
       "    <tr>\n",
       "      <th>234</th>\n",
       "      <td>4</td>\n",
       "      <td>[douglas, set, indian, adventure, actor, micha...</td>\n",
       "      <td>3</td>\n",
       "      <td>4</td>\n",
       "    </tr>\n",
       "    <tr>\n",
       "      <th>235</th>\n",
       "      <td>4</td>\n",
       "      <td>[actor, scott, new, bond, favourite, bookmaker...</td>\n",
       "      <td>3</td>\n",
       "      <td>4</td>\n",
       "    </tr>\n",
       "    <tr>\n",
       "      <th>236</th>\n",
       "      <td>4</td>\n",
       "      <td>[ray, dvd, beat, box, office, taking, oscar-no...</td>\n",
       "      <td>3</td>\n",
       "      <td>4</td>\n",
       "    </tr>\n",
       "    <tr>\n",
       "      <th>237</th>\n",
       "      <td>4</td>\n",
       "      <td>[fox, reliant, reality, tv, head, u, tv, netwo...</td>\n",
       "      <td>3</td>\n",
       "      <td>4</td>\n",
       "    </tr>\n",
       "    <tr>\n",
       "      <th>238</th>\n",
       "      <td>4</td>\n",
       "      <td>[tv, show, unites, angolan, family, angolan, f...</td>\n",
       "      <td>1</td>\n",
       "      <td>1</td>\n",
       "    </tr>\n",
       "    <tr>\n",
       "      <th>239</th>\n",
       "      <td>4</td>\n",
       "      <td>[comic, morris, return, sitcom, comedian, chri...</td>\n",
       "      <td>3</td>\n",
       "      <td>4</td>\n",
       "    </tr>\n",
       "    <tr>\n",
       "      <th>240</th>\n",
       "      <td>4</td>\n",
       "      <td>[pupil, get, anti-piracy, lesson, lesson, musi...</td>\n",
       "      <td>2</td>\n",
       "      <td>2</td>\n",
       "    </tr>\n",
       "    <tr>\n",
       "      <th>241</th>\n",
       "      <td>4</td>\n",
       "      <td>[keanu, reef, given, hollywood, star, actor, k...</td>\n",
       "      <td>3</td>\n",
       "      <td>4</td>\n",
       "    </tr>\n",
       "    <tr>\n",
       "      <th>242</th>\n",
       "      <td>4</td>\n",
       "      <td>[ten-year, tragedy, missing, manic, richey, ed...</td>\n",
       "      <td>3</td>\n",
       "      <td>4</td>\n",
       "    </tr>\n",
       "    <tr>\n",
       "      <th>243</th>\n",
       "      <td>4</td>\n",
       "      <td>[u, critic, laud, comedy, sideways, road, trip...</td>\n",
       "      <td>3</td>\n",
       "      <td>4</td>\n",
       "    </tr>\n",
       "    <tr>\n",
       "      <th>244</th>\n",
       "      <td>4</td>\n",
       "      <td>[band, aid, retains, number, one, spot, charit...</td>\n",
       "      <td>3</td>\n",
       "      <td>4</td>\n",
       "    </tr>\n",
       "    <tr>\n",
       "      <th>245</th>\n",
       "      <td>4</td>\n",
       "      <td>[levy, take, whitbread, novel, prize, orange, ...</td>\n",
       "      <td>3</td>\n",
       "      <td>4</td>\n",
       "    </tr>\n",
       "    <tr>\n",
       "      <th>246</th>\n",
       "      <td>4</td>\n",
       "      <td>[christmas, song, formula, unveiled, formula, ...</td>\n",
       "      <td>3</td>\n",
       "      <td>4</td>\n",
       "    </tr>\n",
       "    <tr>\n",
       "      <th>247</th>\n",
       "      <td>4</td>\n",
       "      <td>[cage, film, third, week, u, top, nicolas, cag...</td>\n",
       "      <td>3</td>\n",
       "      <td>4</td>\n",
       "    </tr>\n",
       "    <tr>\n",
       "      <th>248</th>\n",
       "      <td>4</td>\n",
       "      <td>[bafta, hand, movie, honour, movie, star, acro...</td>\n",
       "      <td>3</td>\n",
       "      <td>4</td>\n",
       "    </tr>\n",
       "    <tr>\n",
       "      <th>249</th>\n",
       "      <td>4</td>\n",
       "      <td>[star, pay, tribute, actor, davis, hollywood, ...</td>\n",
       "      <td>3</td>\n",
       "      <td>4</td>\n",
       "    </tr>\n",
       "  </tbody>\n",
       "</table>\n",
       "<p>250 rows × 4 columns</p>\n",
       "</div>"
      ],
      "text/plain": [
       "     Category ID                                    Lemmatized Text  \\\n",
       "0              0  [worldcom, bos, left, book, alone, former, wor...   \n",
       "1              0  [virgin, blue, share, plummet, 20%, share, aus...   \n",
       "2              0  [crude, oil, price, back, $50, cold, weather, ...   \n",
       "3              0  [korean, credit, card, firm, rescued, south, k...   \n",
       "4              0  [japanese, banking, battle, end, japan, sumito...   \n",
       "5              0  [insurance, boss, plead, guilty, another, thre...   \n",
       "6              0  [german, growth, go, reverse, germany, economy...   \n",
       "7              0  [house, price, show, slight, increase, price, ...   \n",
       "8              0  [stock, market, eye, japan, recovery, japanese...   \n",
       "9              0  [standard, life, cut, policy, bonus, standard,...   \n",
       "10             0  [pernod, takeover, talk, lift, domecq, share, ...   \n",
       "11             0  [ukraine, trim, privatisation, check, ukraine,...   \n",
       "12             0  [u, regulator, rule, pain, drug, u, food, drug...   \n",
       "13             0  [telegraph, newspaper, axe, 90, job, daily, su...   \n",
       "14             0  [court, reject, $280bn, tobacco, case, u, gove...   \n",
       "15             0  [india, power, share, jump, debut, share, indi...   \n",
       "16             0  [deadline, nears, fiat-gm, deal, fiat, general...   \n",
       "17             0  [indonesia, decline, debt, freeze, indonesia, ...   \n",
       "18             0  [singapore, growth, 8.1%, 2004, singapore, eco...   \n",
       "19             0  [call, save, manufacturing, job, trade, union,...   \n",
       "20             0  [yukos, sue, four, firm, $20bn, russian, oil, ...   \n",
       "21             0  [khodorkovsky, ally, denies, charge, close, as...   \n",
       "22             0  [u, company, admits, benin, bribery, u, defenc...   \n",
       "23             0  [news, corp, make, $5.4bn, fox, offer, news, c...   \n",
       "24             0  [chinese, dam, firm, defies, beijing, china, t...   \n",
       "25             0  [bank, set, leave, rate, hold, uk, interest, r...   \n",
       "26             0  [oil, rebound, weather, effect, oil, price, re...   \n",
       "27             0  [japan, narrowly, escape, recession, japan, ec...   \n",
       "28             0  [target, better, many, economic, target, set, ...   \n",
       "29             0  [u, trade, gap, hit, record, 2004, gap, u, exp...   \n",
       "..           ...                                                ...   \n",
       "220            4  [film, production, fall, 40%, uk, number, brit...   \n",
       "221            4  [hillbilly, singer, scoggins, dy, country, wes...   \n",
       "222            4  [bennett, play, take, theatre, prize, history,...   \n",
       "223            4  [comic, book, genius, stan, lee, stan, lee, ma...   \n",
       "224            4  [goodrem, win, top, female, mtv, prize, pop, s...   \n",
       "225            4  [musical, treatment, capra, film, classic, fil...   \n",
       "226            4  [springer, criticises, opera, musical, talk, s...   \n",
       "227            4  [star, gear, bafta, ceremony, film, star, acro...   \n",
       "228            4  [carry, star, patsy, rowlands, dy, actress, pa...   \n",
       "229            4  [grammys, honour, soul, star, charles, memory,...   \n",
       "230            4  [versace, art, portfolio, sale, art, collectio...   \n",
       "231            4  [day-lewis, set, berlin, honour, actor, daniel...   \n",
       "232            4  [public, show, reynolds, portrait, sir, joshua...   \n",
       "233            4  [lost, door, frontman, movie, found, historian...   \n",
       "234            4  [douglas, set, indian, adventure, actor, micha...   \n",
       "235            4  [actor, scott, new, bond, favourite, bookmaker...   \n",
       "236            4  [ray, dvd, beat, box, office, taking, oscar-no...   \n",
       "237            4  [fox, reliant, reality, tv, head, u, tv, netwo...   \n",
       "238            4  [tv, show, unites, angolan, family, angolan, f...   \n",
       "239            4  [comic, morris, return, sitcom, comedian, chri...   \n",
       "240            4  [pupil, get, anti-piracy, lesson, lesson, musi...   \n",
       "241            4  [keanu, reef, given, hollywood, star, actor, k...   \n",
       "242            4  [ten-year, tragedy, missing, manic, richey, ed...   \n",
       "243            4  [u, critic, laud, comedy, sideways, road, trip...   \n",
       "244            4  [band, aid, retains, number, one, spot, charit...   \n",
       "245            4  [levy, take, whitbread, novel, prize, orange, ...   \n",
       "246            4  [christmas, song, formula, unveiled, formula, ...   \n",
       "247            4  [cage, film, third, week, u, top, nicolas, cag...   \n",
       "248            4  [bafta, hand, movie, honour, movie, star, acro...   \n",
       "249            4  [star, pay, tribute, actor, davis, hollywood, ...   \n",
       "\n",
       "     LDA Topic  LDA to Cat ID  \n",
       "0            2              2  \n",
       "1            0              0  \n",
       "2            0              0  \n",
       "3            0              0  \n",
       "4            0              0  \n",
       "5            0              0  \n",
       "6            0              0  \n",
       "7            0              0  \n",
       "8            0              0  \n",
       "9            0              0  \n",
       "10           0              0  \n",
       "11           0              0  \n",
       "12           0              0  \n",
       "13           0              0  \n",
       "14           0              0  \n",
       "15           0              0  \n",
       "16           0              0  \n",
       "17           0              0  \n",
       "18           0              0  \n",
       "19           0              0  \n",
       "20           0              0  \n",
       "21           2              2  \n",
       "22           0              0  \n",
       "23           0              0  \n",
       "24           0              0  \n",
       "25           0              0  \n",
       "26           0              0  \n",
       "27           0              0  \n",
       "28           0              0  \n",
       "29           0              0  \n",
       "..         ...            ...  \n",
       "220          0              0  \n",
       "221          3              4  \n",
       "222          3              4  \n",
       "223          3              4  \n",
       "224          3              4  \n",
       "225          3              4  \n",
       "226          3              4  \n",
       "227          3              4  \n",
       "228          3              4  \n",
       "229          3              4  \n",
       "230          3              4  \n",
       "231          3              4  \n",
       "232          3              4  \n",
       "233          3              4  \n",
       "234          3              4  \n",
       "235          3              4  \n",
       "236          3              4  \n",
       "237          3              4  \n",
       "238          1              1  \n",
       "239          3              4  \n",
       "240          2              2  \n",
       "241          3              4  \n",
       "242          3              4  \n",
       "243          3              4  \n",
       "244          3              4  \n",
       "245          3              4  \n",
       "246          3              4  \n",
       "247          3              4  \n",
       "248          3              4  \n",
       "249          3              4  \n",
       "\n",
       "[250 rows x 4 columns]"
      ]
     },
     "execution_count": 17,
     "metadata": {},
     "output_type": "execute_result"
    }
   ],
   "source": [
    "test"
   ]
  },
  {
   "cell_type": "code",
   "execution_count": 18,
   "metadata": {
    "ExecuteTime": {
     "end_time": "2020-05-29T13:50:01.922419Z",
     "start_time": "2020-05-29T13:50:01.910420Z"
    }
   },
   "outputs": [
    {
     "data": {
      "text/html": [
       "<div>\n",
       "<style scoped>\n",
       "    .dataframe tbody tr th:only-of-type {\n",
       "        vertical-align: middle;\n",
       "    }\n",
       "\n",
       "    .dataframe tbody tr th {\n",
       "        vertical-align: top;\n",
       "    }\n",
       "\n",
       "    .dataframe thead th {\n",
       "        text-align: right;\n",
       "    }\n",
       "</style>\n",
       "<table border=\"1\" class=\"dataframe\">\n",
       "  <thead>\n",
       "    <tr style=\"text-align: right;\">\n",
       "      <th></th>\n",
       "      <th>Category ID</th>\n",
       "      <th>LDA to Cat ID</th>\n",
       "    </tr>\n",
       "  </thead>\n",
       "  <tbody>\n",
       "    <tr>\n",
       "      <th>0</th>\n",
       "      <td>0</td>\n",
       "      <td>2</td>\n",
       "    </tr>\n",
       "    <tr>\n",
       "      <th>21</th>\n",
       "      <td>0</td>\n",
       "      <td>2</td>\n",
       "    </tr>\n",
       "    <tr>\n",
       "      <th>37</th>\n",
       "      <td>0</td>\n",
       "      <td>2</td>\n",
       "    </tr>\n",
       "    <tr>\n",
       "      <th>41</th>\n",
       "      <td>0</td>\n",
       "      <td>1</td>\n",
       "    </tr>\n",
       "    <tr>\n",
       "      <th>51</th>\n",
       "      <td>1</td>\n",
       "      <td>0</td>\n",
       "    </tr>\n",
       "    <tr>\n",
       "      <th>127</th>\n",
       "      <td>2</td>\n",
       "      <td>1</td>\n",
       "    </tr>\n",
       "    <tr>\n",
       "      <th>158</th>\n",
       "      <td>3</td>\n",
       "      <td>4</td>\n",
       "    </tr>\n",
       "    <tr>\n",
       "      <th>207</th>\n",
       "      <td>4</td>\n",
       "      <td>2</td>\n",
       "    </tr>\n",
       "    <tr>\n",
       "      <th>208</th>\n",
       "      <td>4</td>\n",
       "      <td>2</td>\n",
       "    </tr>\n",
       "    <tr>\n",
       "      <th>220</th>\n",
       "      <td>4</td>\n",
       "      <td>0</td>\n",
       "    </tr>\n",
       "    <tr>\n",
       "      <th>238</th>\n",
       "      <td>4</td>\n",
       "      <td>1</td>\n",
       "    </tr>\n",
       "    <tr>\n",
       "      <th>240</th>\n",
       "      <td>4</td>\n",
       "      <td>2</td>\n",
       "    </tr>\n",
       "  </tbody>\n",
       "</table>\n",
       "</div>"
      ],
      "text/plain": [
       "     Category ID  LDA to Cat ID\n",
       "0              0              2\n",
       "21             0              2\n",
       "37             0              2\n",
       "41             0              1\n",
       "51             1              0\n",
       "127            2              1\n",
       "158            3              4\n",
       "207            4              2\n",
       "208            4              2\n",
       "220            4              0\n",
       "238            4              1\n",
       "240            4              2"
      ]
     },
     "execution_count": 18,
     "metadata": {},
     "output_type": "execute_result"
    }
   ],
   "source": [
    "test[test['Category ID'] != test['LDA to Cat ID']][['Category ID','LDA to Cat ID']]"
   ]
  },
  {
   "cell_type": "code",
   "execution_count": 19,
   "metadata": {
    "ExecuteTime": {
     "end_time": "2020-05-29T13:50:01.931399Z",
     "start_time": "2020-05-29T13:50:01.923385Z"
    }
   },
   "outputs": [
    {
     "data": {
      "text/plain": [
       "array([[46,  1,  3,  0,  0],\n",
       "       [ 1, 49,  0,  0,  0],\n",
       "       [ 0,  1, 49,  0,  0],\n",
       "       [ 0,  0,  0, 49,  1],\n",
       "       [ 1,  1,  3,  0, 45]], dtype=int64)"
      ]
     },
     "execution_count": 19,
     "metadata": {},
     "output_type": "execute_result"
    }
   ],
   "source": [
    "confusion_matrix( test['Category ID'],test['LDA to Cat ID'])"
   ]
  },
  {
   "cell_type": "code",
   "execution_count": 20,
   "metadata": {
    "ExecuteTime": {
     "end_time": "2020-05-29T13:50:01.940455Z",
     "start_time": "2020-05-29T13:50:01.932361Z"
    }
   },
   "outputs": [],
   "source": [
    "#model.save(\"LdaModel.model\")"
   ]
  },
  {
   "cell_type": "code",
   "execution_count": 21,
   "metadata": {
    "ExecuteTime": {
     "end_time": "2020-05-29T13:50:01.950123Z",
     "start_time": "2020-05-29T13:50:01.942127Z"
    }
   },
   "outputs": [],
   "source": [
    "# import matplotlib.pyplot as plt\n",
    "# mdiff, annotation = model.diff(model, distance='jaccard', num_words=50)\n",
    "# fig, ax = plt.subplots(figsize=(18, 14))\n",
    "# data = ax.imshow(mdiff, cmap='RdBu_r', origin='lower')\n",
    "# print('Topics: ', mdiff)\n",
    "# plt.title(\"Topic difference (one model) [jaccard distance]\")\n",
    "# plt.colorbar(data)\n",
    "# plt.savefig('LDA_topic_diff.png')"
   ]
  },
  {
   "cell_type": "markdown",
   "metadata": {
    "ExecuteTime": {
     "end_time": "2020-04-23T17:56:35.027525Z",
     "start_time": "2020-04-23T17:56:35.022533Z"
    }
   },
   "source": [
    "## 2. Doc2Vec"
   ]
  },
  {
   "cell_type": "code",
   "execution_count": null,
   "metadata": {},
   "outputs": [],
   "source": []
  },
  {
   "cell_type": "code",
   "execution_count": 22,
   "metadata": {
    "ExecuteTime": {
     "end_time": "2020-05-29T13:50:01.967363Z",
     "start_time": "2020-05-29T13:50:01.953126Z"
    }
   },
   "outputs": [],
   "source": [
    "# from gensim.models.doc2vec import Doc2Vec\n",
    "# from gensim.models.doc2vec import TaggedDocument\n",
    "# documents = [TaggedDocument(doc, [i]) for i, doc in enumerate(input_df['Lemmatized Text'])]\n",
    "# modelDoc2Vec = Doc2Vec(documents, vector_size=200, window=3, min_count=1, workers=4)\n",
    "\n",
    "# #saving the embeddings\n",
    "# input_df['vector'] = [modelDoc2Vec.docvecs[i] for i in range(len(input_df))]\n",
    "# #creating dataframe with the embeddings\n",
    "# a = np.zeros(shape=(len(input_df),200))\n",
    "# scatter_vector = pd.DataFrame(a)\n",
    "# for i in range(len(input_df)):\n",
    "#     for j in range(200):\n",
    "#         scatter_vector.at[i,j] = input_df['vector'][i][j]"
   ]
  },
  {
   "cell_type": "code",
   "execution_count": 23,
   "metadata": {
    "ExecuteTime": {
     "end_time": "2020-05-29T13:50:01.978325Z",
     "start_time": "2020-05-29T13:50:01.970347Z"
    }
   },
   "outputs": [],
   "source": [
    "\n",
    "#input_df = pd.concat([input_df,scatter_vector],axis=1)\n",
    "#input_df.head(3)"
   ]
  },
  {
   "cell_type": "markdown",
   "metadata": {},
   "source": [
    "## 3. BERT"
   ]
  },
  {
   "cell_type": "code",
   "execution_count": 53,
   "metadata": {
    "ExecuteTime": {
     "end_time": "2020-05-29T18:07:14.043130Z",
     "start_time": "2020-05-29T17:55:06.397055Z"
    },
    "scrolled": true
   },
   "outputs": [
    {
     "name": "stderr",
     "output_type": "stream",
     "text": [
      "INFO:transformers.tokenization_utils:loading file https://s3.amazonaws.com/models.huggingface.co/bert/bert-base-uncased-vocab.txt from cache at C:\\Users\\JakubowskiL\\.cache\\torch\\transformers\\26bc1ad6c0ac742e9b52263248f6d0f00068293b33709fae12320c0e35ccfbbb.542ce4285a40d23a559526243235df47c5f75c197f04f37d1a0c124c32c9a084\n",
      "WARNING:transformers.tokenization_utils:Token indices sequence length is longer than the specified maximum sequence length for this model (679 > 512). Running this sequence through the model will result in indexing errors\n",
      "WARNING:transformers.tokenization_utils:Token indices sequence length is longer than the specified maximum sequence length for this model (985 > 512). Running this sequence through the model will result in indexing errors\n",
      "WARNING:transformers.tokenization_utils:Token indices sequence length is longer than the specified maximum sequence length for this model (522 > 512). Running this sequence through the model will result in indexing errors\n",
      "WARNING:transformers.tokenization_utils:Token indices sequence length is longer than the specified maximum sequence length for this model (622 > 512). Running this sequence through the model will result in indexing errors\n",
      "WARNING:transformers.tokenization_utils:Token indices sequence length is longer than the specified maximum sequence length for this model (2238 > 512). Running this sequence through the model will result in indexing errors\n",
      "WARNING:transformers.tokenization_utils:Token indices sequence length is longer than the specified maximum sequence length for this model (555 > 512). Running this sequence through the model will result in indexing errors\n",
      "WARNING:transformers.tokenization_utils:Token indices sequence length is longer than the specified maximum sequence length for this model (648 > 512). Running this sequence through the model will result in indexing errors\n",
      "WARNING:transformers.tokenization_utils:Token indices sequence length is longer than the specified maximum sequence length for this model (1514 > 512). Running this sequence through the model will result in indexing errors\n",
      "WARNING:transformers.tokenization_utils:Token indices sequence length is longer than the specified maximum sequence length for this model (647 > 512). Running this sequence through the model will result in indexing errors\n",
      "WARNING:transformers.tokenization_utils:Token indices sequence length is longer than the specified maximum sequence length for this model (559 > 512). Running this sequence through the model will result in indexing errors\n",
      "WARNING:transformers.tokenization_utils:Token indices sequence length is longer than the specified maximum sequence length for this model (516 > 512). Running this sequence through the model will result in indexing errors\n",
      "WARNING:transformers.tokenization_utils:Token indices sequence length is longer than the specified maximum sequence length for this model (602 > 512). Running this sequence through the model will result in indexing errors\n",
      "WARNING:transformers.tokenization_utils:Token indices sequence length is longer than the specified maximum sequence length for this model (531 > 512). Running this sequence through the model will result in indexing errors\n",
      "WARNING:transformers.tokenization_utils:Token indices sequence length is longer than the specified maximum sequence length for this model (519 > 512). Running this sequence through the model will result in indexing errors\n",
      "WARNING:transformers.tokenization_utils:Token indices sequence length is longer than the specified maximum sequence length for this model (1718 > 512). Running this sequence through the model will result in indexing errors\n",
      "WARNING:transformers.tokenization_utils:Token indices sequence length is longer than the specified maximum sequence length for this model (522 > 512). Running this sequence through the model will result in indexing errors\n",
      "WARNING:transformers.tokenization_utils:Token indices sequence length is longer than the specified maximum sequence length for this model (1176 > 512). Running this sequence through the model will result in indexing errors\n",
      "WARNING:transformers.tokenization_utils:Token indices sequence length is longer than the specified maximum sequence length for this model (1278 > 512). Running this sequence through the model will result in indexing errors\n",
      "WARNING:transformers.tokenization_utils:Token indices sequence length is longer than the specified maximum sequence length for this model (729 > 512). Running this sequence through the model will result in indexing errors\n",
      "WARNING:transformers.tokenization_utils:Token indices sequence length is longer than the specified maximum sequence length for this model (622 > 512). Running this sequence through the model will result in indexing errors\n",
      "WARNING:transformers.tokenization_utils:Token indices sequence length is longer than the specified maximum sequence length for this model (529 > 512). Running this sequence through the model will result in indexing errors\n",
      "WARNING:transformers.tokenization_utils:Token indices sequence length is longer than the specified maximum sequence length for this model (702 > 512). Running this sequence through the model will result in indexing errors\n",
      "WARNING:transformers.tokenization_utils:Token indices sequence length is longer than the specified maximum sequence length for this model (524 > 512). Running this sequence through the model will result in indexing errors\n",
      "WARNING:transformers.tokenization_utils:Token indices sequence length is longer than the specified maximum sequence length for this model (517 > 512). Running this sequence through the model will result in indexing errors\n",
      "WARNING:transformers.tokenization_utils:Token indices sequence length is longer than the specified maximum sequence length for this model (574 > 512). Running this sequence through the model will result in indexing errors\n",
      "WARNING:transformers.tokenization_utils:Token indices sequence length is longer than the specified maximum sequence length for this model (540 > 512). Running this sequence through the model will result in indexing errors\n",
      "WARNING:transformers.tokenization_utils:Token indices sequence length is longer than the specified maximum sequence length for this model (559 > 512). Running this sequence through the model will result in indexing errors\n",
      "WARNING:transformers.tokenization_utils:Token indices sequence length is longer than the specified maximum sequence length for this model (873 > 512). Running this sequence through the model will result in indexing errors\n",
      "WARNING:transformers.tokenization_utils:Token indices sequence length is longer than the specified maximum sequence length for this model (1262 > 512). Running this sequence through the model will result in indexing errors\n",
      "WARNING:transformers.tokenization_utils:Token indices sequence length is longer than the specified maximum sequence length for this model (1860 > 512). Running this sequence through the model will result in indexing errors\n",
      "WARNING:transformers.tokenization_utils:Token indices sequence length is longer than the specified maximum sequence length for this model (712 > 512). Running this sequence through the model will result in indexing errors\n",
      "WARNING:transformers.tokenization_utils:Token indices sequence length is longer than the specified maximum sequence length for this model (525 > 512). Running this sequence through the model will result in indexing errors\n",
      "WARNING:transformers.tokenization_utils:Token indices sequence length is longer than the specified maximum sequence length for this model (810 > 512). Running this sequence through the model will result in indexing errors\n",
      "WARNING:transformers.tokenization_utils:Token indices sequence length is longer than the specified maximum sequence length for this model (600 > 512). Running this sequence through the model will result in indexing errors\n",
      "WARNING:transformers.tokenization_utils:Token indices sequence length is longer than the specified maximum sequence length for this model (525 > 512). Running this sequence through the model will result in indexing errors\n",
      "INFO:transformers.configuration_utils:loading configuration file https://s3.amazonaws.com/models.huggingface.co/bert/bert-base-multilingual-cased-config.json from cache at C:\\Users\\JakubowskiL\\.cache\\torch\\transformers\\45629519f3117b89d89fd9c740073d8e4c1f0a70f9842476185100a8afe715d1.65df3cef028a0c91a7b059e4c404a975ebe6843c71267b67019c0e9cfa8a88f0\n"
     ]
    },
    {
     "name": "stderr",
     "output_type": "stream",
     "text": [
      "INFO:transformers.configuration_utils:Model config {\n",
      "  \"architectures\": [\n",
      "    \"BertForMaskedLM\"\n",
      "  ],\n",
      "  \"attention_probs_dropout_prob\": 0.1,\n",
      "  \"directionality\": \"bidi\",\n",
      "  \"finetuning_task\": null,\n",
      "  \"hidden_act\": \"gelu\",\n",
      "  \"hidden_dropout_prob\": 0.1,\n",
      "  \"hidden_size\": 768,\n",
      "  \"initializer_range\": 0.02,\n",
      "  \"intermediate_size\": 3072,\n",
      "  \"layer_norm_eps\": 1e-12,\n",
      "  \"max_position_embeddings\": 512,\n",
      "  \"model_type\": \"bert\",\n",
      "  \"num_attention_heads\": 12,\n",
      "  \"num_hidden_layers\": 12,\n",
      "  \"num_labels\": 2,\n",
      "  \"output_attentions\": false,\n",
      "  \"output_hidden_states\": false,\n",
      "  \"output_past\": true,\n",
      "  \"pad_token_id\": 0,\n",
      "  \"pooler_fc_size\": 768,\n",
      "  \"pooler_num_attention_heads\": 12,\n",
      "  \"pooler_num_fc_layers\": 3,\n",
      "  \"pooler_size_per_head\": 128,\n",
      "  \"pooler_type\": \"first_token_transform\",\n",
      "  \"pruned_heads\": {},\n",
      "  \"torchscript\": false,\n",
      "  \"type_vocab_size\": 2,\n",
      "  \"use_bfloat16\": false,\n",
      "  \"vocab_size\": 119547\n",
      "}\n",
      "\n",
      "INFO:transformers.modeling_utils:loading weights file https://s3.amazonaws.com/models.huggingface.co/bert/bert-base-multilingual-cased-pytorch_model.bin from cache at C:\\Users\\JakubowskiL\\.cache\\torch\\transformers\\5b5b80054cd2c95a946a8e0ce0b93f56326dff9fbda6a6c3e02de3c91c918342.7131dcb754361639a7d5526985f880879c9bfd144b65a0bf50590bddb7de9059\n"
     ]
    }
   ],
   "source": [
    "import logging\n",
    "logging.basicConfig(level=logging.INFO)\n",
    "\n",
    "# Load pre-trained model tokenizer (vocabulary)\n",
    "tokenizer = BertTokenizer.from_pretrained('bert-base-uncased')\n",
    "\n",
    "MAX_LEN = 128\n",
    "# Tokenize input\n",
    "tokenized_texts = [tokenizer.encode(sent, add_special_tokens=True) for sent in input_df['Lemmatized Text']]\n",
    "# Padding input tokens\n",
    "input_ids = pad_sequences(tokenized_texts, maxlen=MAX_LEN, dtype=\"long\", truncating=\"post\", padding=\"post\")\n",
    "\n",
    "\n",
    "\n",
    "\n",
    "attention_masks = []\n",
    "# Create a mask of 1s for each token followed by 0s for padding\n",
    "for seq in input_ids:\n",
    "  seq_mask = [float(i>0) for i in seq]\n",
    "  attention_masks.append(seq_mask)\n",
    "\n",
    "segments_tensors = torch.tensor(np.array(input_ids)).to(torch.int64)\n",
    "\n",
    "\n",
    "modelBert = BertModel.from_pretrained('bert-base-uncased')\n",
    "modelBert.eval()\n",
    "\n",
    "with torch.no_grad():\n",
    "    outputs = modelBert(segments_tensors)"
   ]
  },
  {
   "cell_type": "markdown",
   "metadata": {},
   "source": [
    "# 4. FastText"
   ]
  },
  {
   "cell_type": "code",
   "execution_count": 9,
   "metadata": {
    "ExecuteTime": {
     "end_time": "2020-05-30T11:42:32.061825Z",
     "start_time": "2020-05-30T11:42:11.199738Z"
    },
    "scrolled": true
   },
   "outputs": [
    {
     "name": "stderr",
     "output_type": "stream",
     "text": [
      "C:\\Users\\JakubowskiL\\AppData\\Local\\Continuum\\anaconda3\\envs\\bert\\lib\\site-packages\\ipykernel_launcher.py:6: DeprecationWarning: Call to deprecated `__getitem__` (Method will be removed in 4.0.0, use self.wv.__getitem__() instead).\n",
      "  \n"
     ]
    }
   ],
   "source": [
    "from gensim.models import FastText\n",
    "modelFastText = FastText(size=5, window=3, min_count=1, sentences=input_df['Lemmatized Text'], iter=10)\n",
    "# saving vector rep for each word in an article\n",
    "FastTextEmbeddings = []\n",
    "for i in range(len(input_df)):\n",
    "    FastTextEmbeddings.append( [modelFastText[word] for word in input_df['Lemmatized Text'][i]])\n",
    "#input_df['FastTextVectors'] = FastTextEmbeddings"
   ]
  },
  {
   "cell_type": "code",
   "execution_count": 10,
   "metadata": {
    "ExecuteTime": {
     "end_time": "2020-05-30T11:49:59.668527Z",
     "start_time": "2020-05-30T11:43:00.711649Z"
    }
   },
   "outputs": [
    {
     "name": "stdout",
     "output_type": "stream",
     "text": [
      "step 0\n",
      "step 100\n",
      "step 200\n",
      "step 300\n",
      "step 400\n",
      "step 500\n",
      "step 600\n",
      "step 700\n",
      "step 800\n",
      "step 900\n",
      "step 1000\n",
      "step 1100\n",
      "step 1200\n",
      "step 1300\n",
      "step 1400\n",
      "step 1500\n",
      "step 1600\n",
      "step 1700\n",
      "step 1800\n",
      "step 1900\n",
      "step 2000\n",
      "step 2100\n",
      "step 2200\n"
     ]
    }
   ],
   "source": [
    "# max number of words in an articlew is 2238\n",
    "a = np.zeros(shape=(len(input_df),2238*5))\n",
    "scatter_vector = pd.DataFrame(a)\n",
    "for i in range(len(input_df)):\n",
    "    for x in range(len(FastTextEmbeddings[i])):\n",
    "            for j in range(5):\n",
    "                scatter_vector.iloc[i,x*5+j] = FastTextEmbeddings[i][x][j]\n",
    "    if(i % 100 == 0):\n",
    "        print(\"step\", i)    "
   ]
  },
  {
   "cell_type": "code",
   "execution_count": 20,
   "metadata": {
    "ExecuteTime": {
     "end_time": "2020-05-30T11:09:07.284588Z",
     "start_time": "2020-05-30T11:07:09.562300Z"
    }
   },
   "outputs": [],
   "source": [
    "# scatter_vector.to_csv('FastTextEmbedding.csv')"
   ]
  },
  {
   "cell_type": "markdown",
   "metadata": {},
   "source": [
    "# Classifiers"
   ]
  },
  {
   "cell_type": "code",
   "execution_count": 54,
   "metadata": {
    "ExecuteTime": {
     "end_time": "2020-05-29T18:11:23.676533Z",
     "start_time": "2020-05-29T18:11:23.573922Z"
    }
   },
   "outputs": [],
   "source": [
    "#BERT\n",
    "output_avg = np.mean(outputs[0].numpy(),1)\n",
    "X = output_avg\n",
    "y = input_df['Category ID']"
   ]
  },
  {
   "cell_type": "code",
   "execution_count": 31,
   "metadata": {
    "ExecuteTime": {
     "end_time": "2020-05-28T08:16:44.130216Z",
     "start_time": "2020-05-28T08:16:44.126180Z"
    }
   },
   "outputs": [],
   "source": [
    "#Doc2Vec\n",
    "y = input_df['Category ID']\n",
    "X = scatter_vector"
   ]
  },
  {
   "cell_type": "code",
   "execution_count": 11,
   "metadata": {
    "ExecuteTime": {
     "end_time": "2020-05-30T11:51:45.069056Z",
     "start_time": "2020-05-30T11:51:45.065035Z"
    }
   },
   "outputs": [],
   "source": [
    "#FastText\n",
    "X = scatter_vector\n",
    "y = input_df['Category ID']"
   ]
  },
  {
   "cell_type": "code",
   "execution_count": null,
   "metadata": {},
   "outputs": [],
   "source": []
  },
  {
   "cell_type": "code",
   "execution_count": 38,
   "metadata": {
    "ExecuteTime": {
     "end_time": "2020-05-30T17:51:34.792843Z",
     "start_time": "2020-05-30T17:47:25.369207Z"
    }
   },
   "outputs": [
    {
     "data": {
      "text/plain": [
       "array([0.91194969, 0.89748201])"
      ]
     },
     "execution_count": 38,
     "metadata": {},
     "output_type": "execute_result"
    }
   ],
   "source": [
    "clf = MLPClassifier(hidden_layer_sizes=(300), random_state=1,\n",
    "                            max_iter=50)\n",
    "X_train, X_test, y_train, y_test = train_test_split(X, y, test_size=0.11111, random_state=1,stratify=y)\n",
    "clf.fit(X_train,y_train)\n",
    "cross_val_score(clf, X, y, cv=2)\n"
   ]
  },
  {
   "cell_type": "code",
   "execution_count": 40,
   "metadata": {
    "ExecuteTime": {
     "end_time": "2020-05-30T18:06:16.977206Z",
     "start_time": "2020-05-30T18:06:16.939279Z"
    }
   },
   "outputs": [],
   "source": [
    "y_pred = clf.predict(X_test)"
   ]
  },
  {
   "cell_type": "code",
   "execution_count": 41,
   "metadata": {
    "ExecuteTime": {
     "end_time": "2020-05-30T18:06:23.903695Z",
     "start_time": "2020-05-30T18:06:23.892692Z"
    }
   },
   "outputs": [
    {
     "data": {
      "text/plain": [
       "array([[49,  4,  3,  0,  1],\n",
       "       [ 0, 43,  0,  0,  2],\n",
       "       [ 2,  0, 42,  1,  1],\n",
       "       [ 0,  0,  1, 55,  1],\n",
       "       [ 1,  2,  1,  3, 36]], dtype=int64)"
      ]
     },
     "execution_count": 41,
     "metadata": {},
     "output_type": "execute_result"
    }
   ],
   "source": [
    "confusion_matrix(y_test, y_pred)"
   ]
  },
  {
   "cell_type": "code",
   "execution_count": 23,
   "metadata": {
    "ExecuteTime": {
     "end_time": "2020-05-27T18:51:58.634831Z",
     "start_time": "2020-05-27T18:50:47.194697Z"
    }
   },
   "outputs": [],
   "source": [
    "clf = MLPClassifier(hidden_layer_sizes=(1200), random_state=1,\n",
    "                            max_iter=1000)\n",
    "Scores.append([i*50,cross_val_score(clf, X, y, cv=2)])"
   ]
  },
  {
   "cell_type": "code",
   "execution_count": 34,
   "metadata": {
    "ExecuteTime": {
     "end_time": "2020-05-30T16:38:21.396592Z",
     "start_time": "2020-05-30T15:54:21.672287Z"
    }
   },
   "outputs": [
    {
     "name": "stderr",
     "output_type": "stream",
     "text": [
      "C:\\Users\\JakubowskiL\\AppData\\Local\\Continuum\\anaconda3\\envs\\bert\\lib\\site-packages\\sklearn\\model_selection\\_validation.py:536: FitFailedWarning: Estimator fit failed. The score on this train-test partition for these parameters will be set to nan. Details: \n",
      "ValueError: max_iter must be > 0, got 0.\n",
      "\n",
      "  FitFailedWarning)\n"
     ]
    },
    {
     "name": "stdout",
     "output_type": "stream",
     "text": [
      "step  0\n",
      "step  1\n",
      "step  2\n",
      "step  3\n",
      "step  4\n",
      "step  5\n",
      "step  6\n",
      "step  7\n",
      "step  8\n",
      "step  9\n",
      "step  10\n",
      "step  11\n",
      "step  12\n",
      "step  13\n",
      "step  14\n",
      "step  15\n",
      "step  16\n",
      "step  17\n",
      "step  18\n",
      "step  19\n"
     ]
    }
   ],
   "source": [
    "# loop for graph\n",
    "ScoresIter =[]\n",
    "for i in range(20):\n",
    "    clf = MLPClassifier(hidden_layer_sizes=(300), random_state=1,\n",
    "                            max_iter=i*50)\n",
    "    ScoresIter.append([i*50,cross_val_score(clf, X, y, cv=2)])\n",
    "    print(\"step \", i)\n",
    "    "
   ]
  },
  {
   "cell_type": "code",
   "execution_count": 14,
   "metadata": {
    "ExecuteTime": {
     "end_time": "2020-05-30T14:41:52.284235Z",
     "start_time": "2020-05-30T12:22:46.810050Z"
    }
   },
   "outputs": [
    {
     "name": "stderr",
     "output_type": "stream",
     "text": [
      "C:\\Users\\JakubowskiL\\AppData\\Local\\Continuum\\anaconda3\\envs\\bert\\lib\\site-packages\\sklearn\\model_selection\\_validation.py:536: FitFailedWarning: Estimator fit failed. The score on this train-test partition for these parameters will be set to nan. Details: \n",
      "ValueError: hidden_layer_sizes must be > 0, got [0].\n",
      "\n",
      "  FitFailedWarning)\n",
      "C:\\Users\\JakubowskiL\\AppData\\Local\\Continuum\\anaconda3\\envs\\bert\\lib\\site-packages\\sklearn\\neural_network\\_multilayer_perceptron.py:571: ConvergenceWarning: Stochastic Optimizer: Maximum iterations (40) reached and the optimization hasn't converged yet.\n",
      "  % self.max_iter, ConvergenceWarning)\n"
     ]
    }
   ],
   "source": [
    "# loop for graph\n",
    "ScoresNeuro =[]\n",
    "for i in range(22):\n",
    "    clf = MLPClassifier(hidden_layer_sizes=(i*100), random_state=1,\n",
    "                            max_iter=40)\n",
    "    ScoresNeuro.append([i*100,cross_val_score(clf, X, y, cv=2)])"
   ]
  },
  {
   "cell_type": "code",
   "execution_count": 30,
   "metadata": {
    "ExecuteTime": {
     "end_time": "2020-05-30T15:52:19.522301Z",
     "start_time": "2020-05-30T15:52:19.514322Z"
    }
   },
   "outputs": [
    {
     "data": {
      "text/plain": [
       "[[0, array([nan, nan])],\n",
       " [50, array([0.91554358, 0.90647482])],\n",
       " [100, array([0.91554358, 0.90557554])],\n",
       " [150, array([0.91194969, 0.89748201])],\n",
       " [200, array([0.9146451, 0.9073741])],\n",
       " [250, array([0.91194969, 0.89838129])],\n",
       " [300, array([0.91554358, 0.90107914])],\n",
       " [350, array([0.92003594, 0.90197842])],\n",
       " [400, array([0.91015274, 0.9028777 ])],\n",
       " [450, array([0.91644205, 0.90467626])],\n",
       " [500, array([0.91644205, 0.90197842])],\n",
       " [550, array([0.92003594, 0.89658273])],\n",
       " [600, array([0.9083558 , 0.90017986])],\n",
       " [650, array([0.91644205, 0.90557554])],\n",
       " [700, array([0.91913747, 0.90197842])],\n",
       " [750, array([0.9146451 , 0.90197842])],\n",
       " [800, array([0.91554358, 0.90467626])],\n",
       " [850, array([0.91284816, 0.89658273])],\n",
       " [900, array([0.91734052, 0.90197842])],\n",
       " [950, array([0.9146451 , 0.90197842])],\n",
       " [1000, array([0.91554358, 0.90197842])],\n",
       " [1050, array([0.91554358, 0.89658273])]]"
      ]
     },
     "execution_count": 30,
     "metadata": {},
     "output_type": "execute_result"
    }
   ],
   "source": [
    "ScoresNeuro"
   ]
  },
  {
   "cell_type": "code",
   "execution_count": 31,
   "metadata": {
    "ExecuteTime": {
     "end_time": "2020-05-30T15:52:32.192651Z",
     "start_time": "2020-05-30T15:52:32.188662Z"
    }
   },
   "outputs": [],
   "source": [
    "LabelsNeuro  =[]\n",
    "for i in range(len(ScoresNeuro)-1):\n",
    "    LabelsNeuro.append(i*100)"
   ]
  },
  {
   "cell_type": "code",
   "execution_count": 42,
   "metadata": {
    "ExecuteTime": {
     "end_time": "2020-05-30T19:45:39.895250Z",
     "start_time": "2020-05-30T19:45:39.891251Z"
    }
   },
   "outputs": [
    {
     "data": {
      "text/plain": [
       "0.9110096020218865"
      ]
     },
     "execution_count": 42,
     "metadata": {},
     "output_type": "execute_result"
    }
   ],
   "source": [
    "max(AverageScoresNeuro)"
   ]
  },
  {
   "cell_type": "code",
   "execution_count": 15,
   "metadata": {
    "ExecuteTime": {
     "end_time": "2020-05-30T15:39:17.043964Z",
     "start_time": "2020-05-30T15:39:17.039972Z"
    }
   },
   "outputs": [],
   "source": [
    "AverageScoresNeuro = [item[1].mean() for item in ScoresNeuro[1:]]\n",
    "LabelsNeuro = [item[0] for item in ScoresNeuro[1:]]"
   ]
  },
  {
   "cell_type": "code",
   "execution_count": 35,
   "metadata": {
    "ExecuteTime": {
     "end_time": "2020-05-30T16:39:21.928352Z",
     "start_time": "2020-05-30T16:39:21.921372Z"
    }
   },
   "outputs": [],
   "source": [
    "AverageScoresNeuro = [item[1].mean() for item in ScoresNeuro[1:]]\n",
    "LabelsNeuro = [item[0] for item in ScoresNeuro[1:]]\n",
    "AverageScoresIter = [item[1].mean() for item in ScoresIter[1:]]\n",
    "LabelsIter= [item[0] for item in ScoresIter[1:]]"
   ]
  },
  {
   "cell_type": "code",
   "execution_count": 37,
   "metadata": {
    "ExecuteTime": {
     "end_time": "2020-05-30T17:17:43.135940Z",
     "start_time": "2020-05-30T17:17:42.641939Z"
    }
   },
   "outputs": [
    {
     "data": {
      "image/png": "[encoded data removed]",
      "text/plain": [
       "<Figure size 1440x720 with 1 Axes>"
      ]
     },
     "metadata": {
      "needs_background": "light"
     },
     "output_type": "display_data"
    }
   ],
   "source": [
    "import matplotlib.pyplot as plt\n",
    "plt.figure(figsize=(20,10))\n",
    "plt.plot(LabelsIter,AverageScoresIter,'ro')\n",
    "plt.xticks(np.arange(0, 1000, step=50))\n",
    "plt.yticks(np.arange(0.7, 1, step=0.01))\n",
    "plt.ylabel('Average accuracy of 3 fold cross validation')\n",
    "plt.xlabel('Number of iterations')\n",
    "plt.savefig('FastTextItersv2.png')\n",
    "plt.show()"
   ]
  },
  {
   "cell_type": "code",
   "execution_count": 33,
   "metadata": {
    "ExecuteTime": {
     "end_time": "2020-05-30T15:53:24.092349Z",
     "start_time": "2020-05-30T15:53:23.579813Z"
    }
   },
   "outputs": [
    {
     "data": {
      "image/png": "[encoded data removed]",
      "text/plain": [
       "<Figure size 1440x720 with 1 Axes>"
      ]
     },
     "metadata": {
      "needs_background": "light"
     },
     "output_type": "display_data"
    }
   ],
   "source": [
    "import matplotlib.pyplot as plt\n",
    "plt.figure(figsize=(20,10))\n",
    "plt.plot(LabelsNeuro,AverageScoresNeuro,'ro')\n",
    "plt.xticks(np.arange(0, 2200, step=100))\n",
    "plt.yticks(np.arange(0.7, 1, step=0.01))\n",
    "plt.ylabel('Average accuracy of 3 fold cross validation')\n",
    "plt.xlabel('Number of neurons in hidden layer')\n",
    "plt.savefig('FastTextNeurons.png')\n",
    "plt.show()\n"
   ]
  },
  {
   "cell_type": "code",
   "execution_count": null,
   "metadata": {},
   "outputs": [],
   "source": [
    "#Confusion matrix\n"
   ]
  },
  {
   "cell_type": "code",
   "execution_count": null,
   "metadata": {
    "ExecuteTime": {
     "end_time": "2020-04-30T13:40:08.891821Z",
     "start_time": "2020-04-30T13:40:00.858274Z"
    }
   },
   "outputs": [],
   "source": [
    "clf = svm.LinearSVC()\n",
    "scores = cross_val_score(clf, X, y, cv=5)\n",
    "scores.mean()"
   ]
  },
  {
   "cell_type": "code",
   "execution_count": null,
   "metadata": {
    "ExecuteTime": {
     "end_time": "2020-04-30T13:51:02.421509Z",
     "start_time": "2020-04-30T13:40:11.620379Z"
    }
   },
   "outputs": [],
   "source": [
    "clf = GradientBoostingClassifier(n_estimators=1000, max_leaf_nodes=4, max_depth= None, random_state= 2,\n",
    "                   min_samples_split= 5)\n",
    "scores = cross_val_score(clf, X, y, cv=5)\n",
    "scores.mean()"
   ]
  }
 ],
 "metadata": {
  "kernelspec": {
   "display_name": "Python 3",
   "language": "python",
   "name": "python3"
  },
  "language_info": {
   "codemirror_mode": {
    "name": "ipython",
    "version": 3
   },
   "file_extension": ".py",
   "mimetype": "text/x-python",
   "name": "python",
   "nbconvert_exporter": "python",
   "pygments_lexer": "ipython3",
   "version": "3.7.7"
  },
  "varInspector": {
   "cols": {
    "lenName": 16,
    "lenType": 16,
    "lenVar": 40
   },
   "kernels_config": {
    "python": {
     "delete_cmd_postfix": "",
     "delete_cmd_prefix": "del ",
     "library": "var_list.py",
     "varRefreshCmd": "print(var_dic_list())"
    },
    "r": {
     "delete_cmd_postfix": ") ",
     "delete_cmd_prefix": "rm(",
     "library": "var_list.r",
     "varRefreshCmd": "cat(var_dic_list()) "
    }
   },
   "types_to_exclude": [
    "module",
    "function",
    "builtin_function_or_method",
    "instance",
    "_Feature"
   ],
   "window_display": false
  }
 },
 "nbformat": 4,
 "nbformat_minor": 4
}
